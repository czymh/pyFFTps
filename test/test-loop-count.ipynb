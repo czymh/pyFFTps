{
 "cells": [
  {
   "cell_type": "markdown",
   "metadata": {},
   "source": [
    "This is for counting the number of loop when calculating the power spectrum.\n",
    "We should be careful when the FFT is done in the real2complex, which the fourier filed is only saved [0, k_nyquist] (Nmesh//2 + 1) part at the z axis.\n",
    "The remain -k_nyquist:-k_basic should be filled."
   ]
  },
  {
   "cell_type": "code",
   "execution_count": 3,
   "metadata": {},
   "outputs": [
    {
     "name": "stdout",
     "output_type": "stream",
     "text": [
      "729\n",
      "729\n"
     ]
    }
   ],
   "source": [
    "Nmesh = 8\n",
    "n_loop = (Nmesh + 1)**3\n",
    "print(n_loop)\n",
    "n_fft = 0\n",
    "for x in range(Nmesh):\n",
    "    for y in range(Nmesh):\n",
    "        for z in range(Nmesh//2 + 1):\n",
    "            factor = 1 if z==0 else 2\n",
    "            if x == Nmesh // 2:\n",
    "                factor *= 2\n",
    "            if y == Nmesh // 2:\n",
    "                factor *= 2\n",
    "            \n",
    "            n_fft += factor\n",
    "print(n_fft)"
   ]
  },
  {
   "cell_type": "code",
   "execution_count": null,
   "metadata": {},
   "outputs": [],
   "source": []
  },
  {
   "cell_type": "code",
   "execution_count": null,
   "metadata": {},
   "outputs": [],
   "source": []
  }
 ],
 "metadata": {
  "kernelspec": {
   "display_name": "czlsst",
   "language": "python",
   "name": "czlsst"
  },
  "language_info": {
   "codemirror_mode": {
    "name": "ipython",
    "version": 3
   },
   "file_extension": ".py",
   "mimetype": "text/x-python",
   "name": "python",
   "nbconvert_exporter": "python",
   "pygments_lexer": "ipython3",
   "version": "3.9.7"
  }
 },
 "nbformat": 4,
 "nbformat_minor": 2
}
